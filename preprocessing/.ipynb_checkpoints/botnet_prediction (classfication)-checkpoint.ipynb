{
 "cells": [
  {
   "cell_type": "code",
   "execution_count": 1,
   "id": "e74365d9-b360-488e-8511-d619276aa40e",
   "metadata": {},
   "outputs": [],
   "source": [
    "import pandas as pd \n",
    "import numpy as np \n",
    "import matplotlib.pyplot as plt\n",
    "import seaborn as sns \n",
    "\n",
    "from sklearn.model_selection import train_test_split\n",
    "from sklearn.preprocessing import StandardScaler\n",
    "from sklearn.metrics import accuracy_score, f1_score, roc_auc\n",
    "from sklearn. import variance_trershold\n",
    "from sklearn.ensamble import RandomForestClassifier\n",
    "from sklearn.svm import SVC \n",
    "from sklearn.Tree import DecisionTree\n",
    "from sklarn.linear_model import \n",
    "\n",
    "%matplotlib.inline\n",
    "\n",
    "import os\n",
    "import warnings"
   ]
  },
  {
   "cell_type": "code",
   "execution_count": null,
   "id": "40f1c218-5f32-4926-aa7c-8f309f9a63dc",
   "metadata": {},
   "outputs": [],
   "source": []
  }
 ],
 "metadata": {
  "kernelspec": {
   "display_name": "Python 3 (ipykernel)",
   "language": "python",
   "name": "python3"
  },
  "language_info": {
   "codemirror_mode": {
    "name": "ipython",
    "version": 3
   },
   "file_extension": ".py",
   "mimetype": "text/x-python",
   "name": "python",
   "nbconvert_exporter": "python",
   "pygments_lexer": "ipython3",
   "version": "3.9.19"
  }
 },
 "nbformat": 4,
 "nbformat_minor": 5
}
