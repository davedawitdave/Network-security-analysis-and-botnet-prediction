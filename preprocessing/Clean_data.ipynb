{
 "cells": [
  {
   "cell_type": "code",
   "execution_count": 1,
   "id": "6a957bec-9e48-4649-a2db-33f618976a26",
   "metadata": {},
   "outputs": [],
   "source": [
    "import pandas as pd \n",
    "import numpy as np \n",
    "\n",
    "import zipfile\n",
    "import os"
   ]
  },
  {
   "cell_type": "code",
   "execution_count": 2,
   "id": "49cc0b60-a768-4f44-91f0-94b6eef2c449",
   "metadata": {},
   "outputs": [
    {
     "name": "stdout",
     "output_type": "stream",
     "text": [
      "Extracted files: ['1-Neris-20110810.binetflow.parquet', 'modified_utc_dataset.csv']\n"
     ]
    }
   ],
   "source": [
    "zip_file_path = '1-Neris-20110810.binetflow.parquet.zip'\n",
    "\n",
    "# Directory to extract the files to\n",
    "extracted_folder = 'data/'\n",
    "\n",
    "# Extract the zip file\n",
    "with zipfile.ZipFile(zip_file_path, 'r') as zip_ref:\n",
    "    zip_ref.extractall(extracted_folder)\n",
    "\n",
    "# List the contents of the extracted folder\n",
    "extracted_files = os.listdir(extracted_folder)\n",
    "print(\"Extracted files:\", extracted_files)"
   ]
  },
  {
   "cell_type": "code",
   "execution_count": 3,
   "id": "36a97f15-0bb5-4754-b404-b706650519ae",
   "metadata": {},
   "outputs": [],
   "source": [
    "#!conda install fastparquet"
   ]
  },
  {
   "cell_type": "code",
   "execution_count": 4,
   "id": "ad91d6f1-001b-4fea-97a1-6c5ef21c743c",
   "metadata": {
    "scrolled": true
   },
   "outputs": [
    {
     "name": "stdout",
     "output_type": "stream",
     "text": [
      "        dur proto    dir state  stos  dtos  tot_pkts  tot_bytes  src_bytes  \\\n",
      "0  1.026539   tcp     ->  S_RA   0.0   0.0         4        276        156   \n",
      "1  1.009595   tcp     ->  S_RA   0.0   0.0         4        276        156   \n",
      "2  3.056586   tcp     ->  SR_A   0.0   0.0         3        182        122   \n",
      "3  3.111769   tcp     ->  SR_A   0.0   0.0         3        182        122   \n",
      "\n",
      "                                    label                  Family  \n",
      "0  flow=Background-Established-cmpgw-CVUT  20110810.binetflow.csv  \n",
      "1  flow=Background-Established-cmpgw-CVUT  20110810.binetflow.csv  \n",
      "2             flow=Background-TCP-Attempt  20110810.binetflow.csv  \n",
      "3             flow=Background-TCP-Attempt  20110810.binetflow.csv  \n"
     ]
    }
   ],
   "source": [
    "data = pd.read_parquet('data/1-Neris-20110810.binetflow.parquet')\n",
    "print(data.head(4))"
   ]
  },
  {
   "cell_type": "markdown",
   "id": "d8fbb5a2-2039-4b15-951a-e1bb69e9d7ae",
   "metadata": {},
   "source": [
    "# Let's see if we need to handle the missing values \n",
    "# CTU-13 Dataset Column Descriptions\r\n",
    "\r\n",
    "The CTU-13 dataset contains network traffic data with various attributes. Here is a detailed description of each column in the dataset:\r\n",
    "\r\n",
    "| Column Name | Description |\r\n",
    "|-------------|-------------|\r\n",
    "| **dur**     | **Duration**: The duration of the flow in seconds. |\r\n",
    "| **proto**   | **Protocol**: The network protocol used (e.g., TCP, UDP). |\r\n",
    "| **dir**     | **Direction**: The direction of the traffic flow. The values indicate the direction relative to the monitoring point (e.g., `->` means outgoing traffic). |\r\n",
    "| **state**   | **State**: The state of the network flow. Common values include: <br> - **S_RA**: Syn-Ack-Reset <br> - **SR_A**: Syn-Reset-Ack <br> - **SR_SA**: Syn-Reset-Syn-Ack |\r\n",
    "| **stos**    | **Service Type of Source**: The type of service for the source IP. |\r\n",
    "| **dtos**    | **Service Type of Destination**: The type of service for the destination IP. |\r\n",
    "| **tot_pkts**| **Total Packets**: The total number of packets in the flow. |\r\n",
    "| **tot_bytes**| **Total Bytes**: The total number of bytes in the flow. |\r\n",
    "| **src_bytes**| **Source Bytes**: The number of bytes sent by the source. |\r\n",
    "| **label**   | **Label**: Descriptive label for the flow, indicating whether it's background traffic, an established flow, or part of a specific attack scenario. For example: <br> - `flow=Background-Established-cmpgw-CVUT` <br> - `flow=Background-TCP-Attempt` <br> - `flow=Background-TCP-Established` |\r\n",
    "| **Family**  | **Family**: The family or scenario to which this flow belongs. It often includes the file name where the data was recorded (e.g., `20110810.bi20110810.binetflow.csv   |\r\n",
    "``\r\n"
   ]
  },
  {
   "cell_type": "code",
   "execution_count": 5,
   "id": "e368e915-9512-4a96-93de-a55f9fd8a76d",
   "metadata": {},
   "outputs": [
    {
     "name": "stdout",
     "output_type": "stream",
     "text": [
      "<class 'pandas.core.frame.DataFrame'>\n",
      "RangeIndex: 1621173 entries, 0 to 1621172\n",
      "Data columns (total 11 columns):\n",
      " #   Column     Non-Null Count    Dtype   \n",
      "---  ------     --------------    -----   \n",
      " 0   dur        1621173 non-null  float32 \n",
      " 1   proto      1621173 non-null  category\n",
      " 2   dir        1621173 non-null  category\n",
      " 3   state      1621172 non-null  category\n",
      " 4   stos       1616028 non-null  float32 \n",
      " 5   dtos       1529939 non-null  float32 \n",
      " 6   tot_pkts   1621173 non-null  int32   \n",
      " 7   tot_bytes  1621173 non-null  int64   \n",
      " 8   src_bytes  1621173 non-null  int64   \n",
      " 9   label      1621173 non-null  category\n",
      " 10  Family     1621173 non-null  category\n",
      "dtypes: category(5), float32(3), int32(1), int64(2)\n",
      "memory usage: 58.8 MB\n"
     ]
    }
   ],
   "source": [
    "data.info()"
   ]
  },
  {
   "cell_type": "code",
   "execution_count": 6,
   "id": "5191fb64-cad8-4d07-b622-151c7d1cb70c",
   "metadata": {},
   "outputs": [
    {
     "name": "stdout",
     "output_type": "stream",
     "text": [
      "   Duration Protocol Direction State  Source_Type_of_Service  \\\n",
      "0  1.026539      tcp        ->  S_RA                     0.0   \n",
      "1  1.009595      tcp        ->  S_RA                     0.0   \n",
      "\n",
      "   Destination_Type_of_Service  Total_Packets  Total_Bytes  Source_Bytes  \\\n",
      "0                          0.0              4          276           156   \n",
      "1                          0.0              4          276           156   \n",
      "\n",
      "                                    Label  \n",
      "0  flow=Background-Established-cmpgw-CVUT  \n",
      "1  flow=Background-Established-cmpgw-CVUT  \n"
     ]
    }
   ],
   "source": [
    "# let's drop family and Rename the columns\n",
    "data.rename(columns={\n",
    "    'dur': 'Duration',\n",
    "    'proto': 'Protocol',\n",
    "    'dir': 'Direction',\n",
    "    'state': 'State',\n",
    "    'stos': 'Source_Type_of_Service',\n",
    "    'dtos': 'Destination_Type_of_Service',\n",
    "    'tot_pkts': 'Total_Packets',\n",
    "    'tot_bytes': 'Total_Bytes',\n",
    "    'src_bytes': 'Source_Bytes',\n",
    "    'label': 'Label'\n",
    "}, inplace=True)\n",
    "\n",
    "columns_to_drop = ['Family']\n",
    "\n",
    "# Drop the columns if they exist\n",
    "data.drop(columns=[col for col in columns_to_drop if col in data.columns], inplace=True)\n",
    "\n",
    "print(data.head(2))\n"
   ]
  },
  {
   "cell_type": "code",
   "execution_count": 7,
   "id": "f25a40aa-ab9f-41e2-9a71-8311dc34d2c0",
   "metadata": {},
   "outputs": [],
   "source": [
    "new_file_path = 'data/modified_utc_dataset.csv'\n",
    "data.to_csv(new_file_path, index=False)"
   ]
  },
  {
   "cell_type": "code",
   "execution_count": null,
   "id": "8fe5b4b3-cfe0-45ea-b412-2ce07a943141",
   "metadata": {},
   "outputs": [],
   "source": []
  },
  {
   "cell_type": "code",
   "execution_count": null,
   "id": "0465741c-5759-4912-bab6-b2eef9763e01",
   "metadata": {},
   "outputs": [],
   "source": []
  }
 ],
 "metadata": {
  "kernelspec": {
   "display_name": "Python 3 (ipykernel)",
   "language": "python",
   "name": "python3"
  },
  "language_info": {
   "codemirror_mode": {
    "name": "ipython",
    "version": 3
   },
   "file_extension": ".py",
   "mimetype": "text/x-python",
   "name": "python",
   "nbconvert_exporter": "python",
   "pygments_lexer": "ipython3",
   "version": "3.9.19"
  }
 },
 "nbformat": 4,
 "nbformat_minor": 5
}
